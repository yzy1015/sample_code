{
 "cells": [
  {
   "cell_type": "code",
   "execution_count": 1,
   "metadata": {},
   "outputs": [],
   "source": [
    "import os.path, gym\n",
    "import numpy as np\n",
    "os.environ['TF_CPP_MIN_LOG_LEVEL'] = '3'\n",
    "import tensorflow as tf\n",
    "import roboschool\n",
    "from pathlib import Path\n",
    "import matplotlib.pyplot as plt\n",
    "import seaborn as sns\n",
    "tf.set_random_seed(1234)\n",
    "plt.style.use('seaborn-white')\n",
    "sns.set(context = \"paper\", font = \"monospace\")"
   ]
  },
  {
   "cell_type": "code",
   "execution_count": 2,
   "metadata": {
    "collapsed": true
   },
   "outputs": [],
   "source": [
    "class learning_agent(object):\n",
    "    '''\n",
    "        define a sample actor critic reinforcement learning agent with 2 fully\n",
    "        connected layers for both actor and critic networks\n",
    "    '''\n",
    "    def __init__(self, env, batch_n, gamma = 0.99, expo_rate = 0, learning_rate = 0.001):\n",
    "        # ---------------- hyper parameters -------------------\n",
    "        self.env = env                      # environment\n",
    "        self.gamma = gamma                  # decay factor\n",
    "        self.expo_rate = expo_rate          # weight for entropy term\n",
    "        self.learning_rate = learning_rate  # learning rate for agent\n",
    "        # ---------------- internal data ----------------------\n",
    "        self.trajectory = []             # sequence of state history\n",
    "        self.reward_traj = []            # sequence of reward history\n",
    "        self.action_traj = []            # sequence of action history\n",
    "        self.batch_num = batch_n         # number of trajectory used for learning\n",
    "        self.batch_count = 0             # record current batch count\n",
    "        self.batch_data = {}             # dictionary store trajcetoy info\n",
    "        self.save_freq = 0               # tracking frequency of saving memory \n",
    "        self.critic_buffer = {}          # dictionary store data for critic network learning\n",
    "        self.critic_buffer['target_value'] = []   # TD target\n",
    "        self.critic_buffer['next_st_value'] = []  # value of next state\n",
    "        self.next_state = []                      # state offset\n",
    "        \n",
    "        # define network structure (state input and action output by environment definition)\n",
    "        self.state, self.a_mean, self.a_sigma, self.value =  self.build_net(self.env)\n",
    "        self.action_tr = tf.placeholder(tf.float32, [None, env.action_space.shape[0]])\n",
    "        self.total_reward = tf.placeholder(tf.float32, [None, 1])\n",
    "        \n",
    "        # sample action based on gaussian policy\n",
    "        rv_I = tf.random_normal([1, env.action_space.shape[0]], \n",
    "                                mean=0.0, stddev=1.0, dtype=tf.float32, seed=None)\n",
    "        self.sample_action = tf.clip_by_value(tf.add(self.a_mean, tf.multiply(self.a_sigma, rv_I)), \n",
    "                                              env.action_space.low.tolist(), \n",
    "                                              env.action_space.high.tolist())\n",
    "        \n",
    "        # define critic network and loss by TD method\n",
    "        self.target_value = tf.placeholder(tf.float32, [None, 1])\n",
    "        self.critic_loss = tf.reduce_mean(tf.square(self.target_value - self.value))\n",
    "        self.optimizer_critic = tf.train.AdamOptimizer(self.learning_rate).minimize(self.critic_loss)\n",
    "        \n",
    "        # define loss for policy network \n",
    "        self.prob = tf.contrib.distributions.Normal(loc = self.a_mean, scale = self.a_sigma)\n",
    "        self.log_r_sum = tf.multiply(self.prob.log_prob(self.action_tr), (self.total_reward - self.value))\n",
    "        self.entropy = self.prob.entropy()\n",
    "        self.loss = tf.reduce_mean(-self.log_r_sum) - self.expo_rate * self.entropy# reduce sum and add expo\n",
    "        self.optimizer = tf.train.AdamOptimizer(self.learning_rate).minimize(self.loss)\n",
    "        \n",
    "        # start session\n",
    "        self.sess = tf.Session()\n",
    "        self.saver=tf.train.Saver()\n",
    "        self.sess.run(tf.global_variables_initializer())\n",
    "        \n",
    "        # check nn memory existance\n",
    "        my_file = Path(\"memory/model.ckpt.index\")\n",
    "        if my_file.is_file():\n",
    "            self.saver.restore(self.sess,\"memory/model.ckpt\")\n",
    "            print(\"model restore\")\n",
    "        else:\n",
    "            print(\"start new file\")\n",
    "            try:\n",
    "                os.makedirs('memory')\n",
    "            except OSError as e:\n",
    "                pass\n",
    "            \n",
    "    \n",
    "    def build_net(self, env):\n",
    "        '''\n",
    "            openAI gym environment as input to setup input and output layers of\n",
    "            actor and critic networks. Actor and Critic both have 2 layers.\n",
    "        '''\n",
    "        act_shape = env.action_space.shape[0]\n",
    "        obs_shape = env.observation_space.shape[0]\n",
    "        state = tf.placeholder(tf.float32, [None, obs_shape])\n",
    "        \n",
    "        # actor network \n",
    "        l1 = tf.layers.dense(inputs = state, units = 128, activation = tf.nn.relu, \n",
    "                             kernel_initializer = tf.random_normal_initializer(0.,.1), \n",
    "                             bias_initializer = tf.constant_initializer(0.1), \n",
    "                             name = \"policy_l1\")\n",
    "        \n",
    "        l2 = tf.layers.dense(inputs = l1, units = 64, activation = tf.nn.relu, \n",
    "                             kernel_initializer = tf.random_normal_initializer(0.,.1), \n",
    "                             bias_initializer = tf.constant_initializer(0.1), \n",
    "                             name = \"policy_l2\")\n",
    "        \n",
    "        p_mean = tf.layers.dense(inputs = l2, units = act_shape, activation = tf.nn.tanh, \n",
    "                             kernel_initializer = tf.random_normal_initializer(0.,.1), \n",
    "                             bias_initializer = tf.constant_initializer(0.1), \n",
    "                             name = \"action_mean\")\n",
    "\n",
    "        p_sigma = tf.layers.dense(inputs = l2, units = act_shape, activation = tf.nn.softplus, \n",
    "                             kernel_initializer = tf.random_normal_initializer(0.,.1), \n",
    "                             bias_initializer = tf.constant_initializer(0.1), \n",
    "                             name = \"action_std\") + 1e-8\n",
    "\n",
    "        scale_action_mean = tf.multiply(p_mean, \n",
    "                                        np.array([env.action_space.high.tolist()]), \n",
    "                                        name = \"scale_action_mean\")\n",
    "        \n",
    "        # critic network\n",
    "        l3 = tf.layers.dense(inputs = state, units = 64, activation = tf.nn.relu, \n",
    "                             kernel_initializer = tf.random_normal_initializer(0.,.1), \n",
    "                             bias_initializer = tf.constant_initializer(0.1),\n",
    "                             name = \"critic_l1\")\n",
    "        \n",
    "        l4 = tf.layers.dense(inputs = l3, units = 32, activation = tf.nn.relu, \n",
    "                             kernel_initializer = tf.random_normal_initializer(0.,.1), \n",
    "                             bias_initializer = tf.constant_initializer(0.1),\n",
    "                             name = \"critic_l2\")\n",
    "        \n",
    "        value = tf.layers.dense(inputs = l4, units = 1,  \n",
    "                             kernel_initializer = tf.random_normal_initializer(0.,.1), \n",
    "                             bias_initializer = tf.constant_initializer(0.1),\n",
    "                             name = \"critic\")\n",
    "        \n",
    "        return state, scale_action_mean, p_sigma, value\n",
    "    \n",
    "    def process_batch_value_learning(self,do):\n",
    "        '''\n",
    "            process collected data, arrange into dictionary for learning\n",
    "            if variable do is true, add negative reward on last state since\n",
    "            agent terminate early than expect\n",
    "        '''\n",
    "        # calculate target value of TD and save in dictionary\n",
    "        n_temp = np.array(self.next_state)\n",
    "        n_temp.astype(np.float32)\n",
    "        n_value = self.sess.run(self.value, feed_dict={self.state : n_temp})\n",
    "        if do:\n",
    "            n_value[len(n_value)-1][0] = -5\n",
    "        \n",
    "        target_value = np.array([self.reward_traj]).T + self.gamma * n_value\n",
    "        \n",
    "        if self.batch_count == 0:\n",
    "            self.critic_buffer['target_value'] = target_value\n",
    "        else:\n",
    "            self.critic_buffer['target_value'] = np.concatenate((self.critic_buffer['target_value'],\n",
    "                                                                 target_value), axis=0)\n",
    "        \n",
    "        # calculate cumulative reward\n",
    "        total_reward= np.zeros([len(self.action_traj),1])\n",
    "        final_state = np.array([self.next_state[len(self.next_state)-1]])\n",
    "        final_state.astype(np.float32)\n",
    "        sum_reward = self.sess.run(self.value, feed_dict={self.state : final_state})[0][0]\n",
    "        for i in reversed(range(len(self.reward_traj))):\n",
    "            sum_reward = sum_reward * self.gamma + self.reward_traj[i]\n",
    "            total_reward[i][0] = sum_reward\n",
    "        \n",
    "        total_reward.astype(np.float32)\n",
    "        self.trajectory.astype(np.float32)\n",
    "        self.action_traj.astype(np.float32)\n",
    "        \n",
    "        # save processed data in dictionary\n",
    "        if self.batch_count == 0:\n",
    "            self.batch_data['traj'] = self.trajectory\n",
    "            self.batch_data['action'] = self.action_traj\n",
    "            self.batch_data['reward'] = total_reward\n",
    "        else:\n",
    "            self.batch_data['traj'] = np.concatenate((self.batch_data['traj'],\n",
    "                                                      self.trajectory), axis=0)\n",
    "            self.batch_data['action'] = np.concatenate((self.batch_data['action'],\n",
    "                                                        self.action_traj), axis=0)\n",
    "            self.batch_data['reward'] = np.concatenate((self.batch_data['reward'],\n",
    "                                                        total_reward), axis=0)\n",
    "            \n",
    "        self.trajectory = [] \n",
    "        self.reward_traj = []\n",
    "        self.action_traj = []\n",
    "        self.next_state = []\n",
    "    \n",
    "    \n",
    "    def pg_learn(self,do):\n",
    "        '''\n",
    "            feed data to reinforcement learning agent for learning.\n",
    "            If do is true, agent terminate early than expect\n",
    "        '''\n",
    "        self.process_batch_value_learning(do)        # perform data processing\n",
    "        self.batch_count = self.batch_count + 1      # keep track number of batch\n",
    "        # --------------- perform learning when trajectory number is enough ----------\n",
    "        if self.batch_count >= self.batch_num:       \n",
    "            self.batch_count = 0\n",
    "            feed_dict = {self.state: self.batch_data['traj'].astype(np.float32), \n",
    "                         self.action_tr: self.batch_data['action'].astype(np.float32), \n",
    "                         self.total_reward: self.batch_data['reward'].astype(np.float32)}\n",
    "            \n",
    "            # update policy network for one iteration\n",
    "            self.sess.run(self.optimizer, feed_dict)\n",
    "            \n",
    "            feed_dict_c = {self.state: self.batch_data['traj'].astype(np.float32), \n",
    "                         self.target_value: self.critic_buffer['target_value'].astype(np.float32)}\n",
    "            # update critic network for 10 iteration\n",
    "            for i in range(10):\n",
    "                self.sess.run(self.optimizer_critic, feed_dict_c)\n",
    "            \n",
    "            self.batch_data = {}\n",
    "        \n",
    "        # store memory periodically \n",
    "        self.save_freq = self.save_freq + 1 \n",
    "        if self.save_freq % 5000 == 1:\n",
    "            self.saver.save(self.sess, \"memory/model.ckpt\")\n",
    "            \n",
    "        self.trajectory = [] \n",
    "        self.reward_traj = []\n",
    "        self.action_traj = []\n",
    "    \n",
    "    def pick_action(self, obs):\n",
    "        '''\n",
    "            pick action based on observation. Used this fucntion to pick action during training\n",
    "            this is stochastic policy\n",
    "            a sample continuous observation is np.array([ 0, 0, 0.99811082, 0.06143937, 0])\n",
    "            a sample continuous output action is np.array([0.08976637]) \n",
    "        '''\n",
    "        if len(self.trajectory) == 0:\n",
    "            self.trajectory = np.array([obs.tolist()])\n",
    "        else:\n",
    "            self.trajectory = np.append(self.trajectory, np.array([obs.tolist()]), 0)\n",
    "        \n",
    "        action = self.sess.run(self.sample_action, feed_dict={self.state : np.array([obs.tolist()])})[0]\n",
    "        \n",
    "        # store action trajectory\n",
    "        if len(self.action_traj) == 0:\n",
    "            self.action_traj = np.array([action.tolist()])\n",
    "        else:\n",
    "            self.action_traj = np.append(self.action_traj, np.array([action.tolist()]), 0)\n",
    "        \n",
    "        return action   \n",
    "    \n",
    "    def pick_action_trained(self, obs):\n",
    "        '''\n",
    "            pick action based on observation after training. This is deterministic policy\n",
    "        '''    \n",
    "        return self.sess.run(self.sample_action, feed_dict={self.state : np.array([obs.tolist()])})[0]  \n",
    "    \n",
    "    def get_reward(self, reward, next_obs):\n",
    "        '''\n",
    "            obtain reward and next obervation from environment\n",
    "            a sample reward is 1.0\n",
    "            a sample observation is np.array([ 0, 0, 0.99811082, 0.06143937, 0])\n",
    "        '''\n",
    "        self.reward_traj.append(reward)\n",
    "        self.next_state.append(next_obs)\n",
    "        \n",
    "    def get_parameter(self, obs):\n",
    "        print(\"mean: \", self.sess.run(self.a_mean, \n",
    "                                      feed_dict={self.state : np.array([obs.tolist()])})[0], \"\\n\")\n",
    "        print(\"sigm: \", self.sess.run(self.a_sigma, \n",
    "                                      feed_dict={self.state : np.array([obs.tolist()])})[0], \"\\n\")\n",
    "        "
   ]
  },
  {
   "cell_type": "markdown",
   "metadata": {},
   "source": [
    "# Define agent and environment"
   ]
  },
  {
   "cell_type": "code",
   "execution_count": 3,
   "metadata": {},
   "outputs": [
    {
     "name": "stderr",
     "output_type": "stream",
     "text": [
      "[2018-03-03 21:14:34,920] Making new env: RoboschoolInvertedPendulum-v1\n"
     ]
    },
    {
     "name": "stdout",
     "output_type": "stream",
     "text": [
      "start new file\n"
     ]
    }
   ],
   "source": [
    "env = gym.make(\"RoboschoolInvertedPendulum-v1\") # define training environment\n",
    "env.seed(1)           \n",
    "agent = learning_agent(env = env, batch_n = 50) # define learning agent "
   ]
  },
  {
   "cell_type": "markdown",
   "metadata": {},
   "source": [
    "# Before learning"
   ]
  },
  {
   "cell_type": "code",
   "execution_count": 4,
   "metadata": {},
   "outputs": [],
   "source": [
    "score_list = []\n",
    "# --------------- perform evaluation ----------------------\n",
    "for i in range(100):                          \n",
    "    observation = env.reset() # reset environment for each new episode\n",
    "    done = False            \n",
    "    total_r = 0\n",
    "    # while episode is not terminate\n",
    "    while done == False:\n",
    "        action = agent.pick_action_trained(observation)     # agent pick action\n",
    "        observation_, reward, done, info = env.step(action) # env return new state and reward\n",
    "                \n",
    "        total_r = total_r + reward                          # calculate cumulative reward\n",
    "        observation = observation_\n",
    "\n",
    "    score_list.append(total_r)"
   ]
  },
  {
   "cell_type": "code",
   "execution_count": 5,
   "metadata": {},
   "outputs": [
    {
     "data": {
      "image/png": "[encoded data removed]",
      "text/plain": [
       "<matplotlib.figure.Figure at 0x7fd7305ba6d8>"
      ]
     },
     "metadata": {},
     "output_type": "display_data"
    }
   ],
   "source": [
    "plt.plot(score_list)\n",
    "plt.xlabel('episodes')\n",
    "plt.ylabel('cumulative reward')\n",
    "plt.show()"
   ]
  },
  {
   "cell_type": "markdown",
   "metadata": {},
   "source": [
    "# Learning - stochastic policy"
   ]
  },
  {
   "cell_type": "code",
   "execution_count": 6,
   "metadata": {
    "scrolled": true
   },
   "outputs": [],
   "source": [
    "metric = 0\n",
    "score_list = []\n",
    "# --------------- perform online learning ----------------------\n",
    "while metric<999: # stop learning when metric is larger than 999                              \n",
    "    observation = env.reset() # reset environment for each new episode\n",
    "    done = False            \n",
    "    total_r = 0\n",
    "    # while episode is not terminate\n",
    "    while done == False:\n",
    "        action = agent.pick_action(observation)             # agent pick action\n",
    "        observation_, reward, done, info = env.step(action) # env return new state and reward\n",
    "        agent.get_reward(reward, observation_)              # agent receive reward and next obs\n",
    "        if done:\n",
    "            do = True\n",
    "                \n",
    "        total_r = total_r + reward                          # calculate cumulative reward\n",
    "        observation = observation_\n",
    "\n",
    "    if metric<999:\n",
    "        agent.pg_learn(do)                                      # agent updates its memory \n",
    "    \n",
    "    metric = metric* 0.95+0.05*total_r\n",
    "    score_list.append(total_r)"
   ]
  },
  {
   "cell_type": "code",
   "execution_count": 7,
   "metadata": {},
   "outputs": [
    {
     "data": {
      "image/png": "[encoded data removed]",
      "text/plain": [
       "<matplotlib.figure.Figure at 0x7fd733aa6400>"
      ]
     },
     "metadata": {},
     "output_type": "display_data"
    }
   ],
   "source": [
    "plt.plot(score_list)\n",
    "plt.xlabel('episodes')\n",
    "plt.ylabel('cumulative reward')\n",
    "plt.show()"
   ]
  },
  {
   "cell_type": "markdown",
   "metadata": {},
   "source": [
    "# Evaluation - deterministic policy"
   ]
  },
  {
   "cell_type": "code",
   "execution_count": 8,
   "metadata": {},
   "outputs": [],
   "source": [
    "score_list = []\n",
    "# --------------- perform evaluation ----------------------\n",
    "for i in range(100):                          \n",
    "    observation = env.reset() # reset environment for each new episode\n",
    "    done = False            \n",
    "    total_r = 0\n",
    "    # while episode is not terminate\n",
    "    while done == False:\n",
    "        action = agent.pick_action_trained(observation)     # agent pick action\n",
    "        observation_, reward, done, info = env.step(action) # env return new state and reward\n",
    "                \n",
    "        total_r = total_r + reward                          # calculate cumulative reward\n",
    "        observation = observation_\n",
    "\n",
    "    score_list.append(total_r)"
   ]
  },
  {
   "cell_type": "code",
   "execution_count": 9,
   "metadata": {},
   "outputs": [
    {
     "data": {
      "image/png": "[encoded data removed]",
      "text/plain": [
       "<matplotlib.figure.Figure at 0x7fd728792b38>"
      ]
     },
     "metadata": {},
     "output_type": "display_data"
    }
   ],
   "source": [
    "plt.plot(score_list)\n",
    "plt.xlabel('episodes')\n",
    "plt.ylabel('cumulative reward')\n",
    "plt.show()"
   ]
  },
  {
   "cell_type": "code",
   "execution_count": null,
   "metadata": {
    "collapsed": true
   },
   "outputs": [],
   "source": []
  }
 ],
 "metadata": {
  "kernelspec": {
   "display_name": "Python 3",
   "language": "python",
   "name": "python3"
  },
  "language_info": {
   "codemirror_mode": {
    "name": "ipython",
    "version": 3
   },
   "file_extension": ".py",
   "mimetype": "text/x-python",
   "name": "python",
   "nbconvert_exporter": "python",
   "pygments_lexer": "ipython3",
   "version": "3.6.2"
  }
 },
 "nbformat": 4,
 "nbformat_minor": 2
}
